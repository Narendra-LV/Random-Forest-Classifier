{
 "cells": [
  {
   "cell_type": "markdown",
   "metadata": {},
   "source": [
    " # Objective: Build a machine learning model to predict Single Family Mortgage Defaut Probabilities\n",
    "\n",
    "\n",
    "Dataset used: FNMA Single-Family Loan Performance Data. FNMA Mae releases data for Acquisition and Performance of loans every quarter. Q4 data for 2007 is used for this analysis. The dataset has two files:\n",
    "- a) Aquisition file - The aquisition fie contains personal information for each of the borrowers, including an individual’s debt-to-income ratio, credit score, and loan amount, among several other things.\n",
    "- b) Performance file - The perfomance data contains information regarding loan payment history, and whether or not a borrower ended up defaulting on their loan\n",
    "\n",
    "[Click here for more information on the datset and variables](https://www.fanniemae.com/portal/funding-the-market/data/loan-performance-data.html)"
   ]
  },
  {
   "cell_type": "markdown",
   "metadata": {},
   "source": [
    "### Summary of steps:\n",
    "- a. Understand the dataset\n",
    "- b. Literature review (Links are in the comments below)\n",
    "- c. Data cleaning and transformation\n",
    "- d. Sampling the data using imblearn - SMOTEENN\n",
    "- e. Splitting the dataset\n",
    "- f. Training and prediction using Random Forest model\n",
    "- g. Check accuracy of prediction by passing the data to confusion matrix\n",
    "- h. Check influence of the features on prediction\n",
    "- i. Retrain the model with optimized parameters and important features"
   ]
  },
  {
   "cell_type": "code",
   "execution_count": 1,
   "metadata": {},
   "outputs": [],
   "source": [
    "import pandas as pd\n",
    "import numpy as np\n",
    "import seaborn as sns\n",
    "from sklearn.ensemble import RandomForestClassifier, RandomForestRegressor\n",
    "from sklearn.model_selection import train_test_split\n",
    "from sklearn.metrics import confusion_matrix, classification_report,roc_auc_score,roc_curve\n",
    "import matplotlib.pyplot as plt\n",
    "%matplotlib inline"
   ]
  },
  {
   "cell_type": "markdown",
   "metadata": {},
   "source": [
    "## Load datasets and add headers\n",
    "[Link to Headers](https://loanperformancedata.fanniemae.com/lppub-docs/lppub_file_layout.pdf)"
   ]
  },
  {
   "cell_type": "code",
   "execution_count": 2,
   "metadata": {},
   "outputs": [],
   "source": [
    "col_acq = ['LoanID','Channel','SellerName','OrInterestRate','OrUnpaidPrinc','OrLoanTerm',\n",
    "        'OrDate','FirstPayment','OrLTV','OrCLTV','NumBorrow','DTIRat','CreditScore',\n",
    "        'FTHomeBuyer','LoanPurpose','PropertyType','NumUnits','OccStatus','PropertyState',\n",
    "        'Zip','MortInsPerc','ProductType','CoCreditScore','MortInsType','RelMortInd'];\n",
    "\n",
    "col_per = ['LoanID','MonthRep','Servicer','CurrInterestRate','CAUPB','LoanAge','MonthsToMaturity',\n",
    "          'AdMonthsToMaturity','MaturityDate','MSA','CLDS','ModFlag','ZeroBalCode','ZeroBalDate',\n",
    "          'LastInstallDate','ForeclosureDate','DispositionDate','PPRC','AssetRecCost','MHRC',\n",
    "          'ATFHP','NetSaleProceeds','CreditEnhProceeds','RPMWP','OFP','NIBUPB','PFUPB','RMWPF',\n",
    "          'FPWA','ServicingIndicator'];\n",
    "\n",
    "raw_acq = pd.read_csv('E:/DS Data/2007Q4/Acquisition_2007Q4.txt', sep='|', names=col_acq, index_col=False)\n",
    "raw_per = pd.read_csv('E:/DS Data/2007Q4/Performance_2007Q4.txt', sep='|',\n",
    "                     names=col_per, usecols=[0, 15], index_col=False)"
   ]
  },
  {
   "cell_type": "code",
   "execution_count": 3,
   "metadata": {},
   "outputs": [
    {
     "name": "stdout",
     "output_type": "stream",
     "text": [
      "         LoanID Channel             SellerName  OrInterestRate  OrUnpaidPrinc  \\\n",
      "0  100002296854       C  BANK OF AMERICA, N.A.           6.625         343000   \n",
      "1  100006876815       C  BANK OF AMERICA, N.A.           6.250         400000   \n",
      "2  100008184591       B                  OTHER           6.625          81000   \n",
      "3  100008870761       B           AMTRUST BANK           6.500         119000   \n",
      "4  100013284158       B  BANK OF AMERICA, N.A.           6.625         205000   \n",
      "\n",
      "   OrLoanTerm   OrDate FirstPayment  OrLTV  OrCLTV  ...  PropertyType  \\\n",
      "0         360  10/2007      12/2007     86    86.0  ...            PU   \n",
      "1         360  10/2007      12/2007     62    62.0  ...            SF   \n",
      "2         360  11/2007      01/2008     64    82.0  ...            SF   \n",
      "3         360  11/2007      01/2008     71    71.0  ...            CO   \n",
      "4         360  10/2007      12/2007     27    27.0  ...            SF   \n",
      "\n",
      "   NumUnits  OccStatus PropertyState  Zip MortInsPerc  ProductType  \\\n",
      "0         1          P            CO  809        25.0          FRM   \n",
      "1         1          P            CA  920         NaN          FRM   \n",
      "2         1          P            LA  708         NaN          FRM   \n",
      "3         1          P            IL  600         NaN          FRM   \n",
      "4         1          P            CA  907         NaN          FRM   \n",
      "\n",
      "  CoCreditScore MortInsType  RelMortInd  \n",
      "0         756.0         2.0           N  \n",
      "1         790.0         NaN           N  \n",
      "2           NaN         NaN           N  \n",
      "3           NaN         NaN           N  \n",
      "4           NaN         NaN           N  \n",
      "\n",
      "[5 rows x 25 columns]\n",
      "         LoanID ForeclosureDate\n",
      "0  100002296854             NaN\n",
      "1  100002296854             NaN\n",
      "2  100002296854             NaN\n",
      "3  100002296854             NaN\n",
      "4  100002296854             NaN\n"
     ]
    }
   ],
   "source": [
    "print(raw_acq.head())\n",
    "print(raw_per.head())"
   ]
  },
  {
   "cell_type": "code",
   "execution_count": 4,
   "metadata": {},
   "outputs": [],
   "source": [
    "#Loan ID an ForeclosureDate are the only variables needed for training and prediction.\n",
    "#Hence we drop all other variables from the data and merge it with aquisition file.\n",
    "#Rename the Foreclosure field as 'Default' for easy reading"
   ]
  },
  {
   "cell_type": "code",
   "execution_count": 5,
   "metadata": {},
   "outputs": [],
   "source": [
    "raw_per.drop_duplicates(subset='LoanID', keep='last', inplace=True)\n",
    "raw_data = pd.merge(raw_acq, raw_per, on='LoanID', how='inner')\n",
    "\n",
    "raw_data.rename(index=str, columns={\"ForeclosureDate\": 'Default'}, inplace=True)"
   ]
  },
  {
   "cell_type": "code",
   "execution_count": 6,
   "metadata": {},
   "outputs": [],
   "source": [
    "#Default variables contains dates for records where the borrower defaulted and null values if not defaulted.\n",
    "#These have to be convered to Binary values for the ML algorithmsto work properly"
   ]
  },
  {
   "cell_type": "code",
   "execution_count": 7,
   "metadata": {},
   "outputs": [],
   "source": [
    "raw_data['Default'].fillna(0, inplace=True)\n",
    "raw_data.loc[raw_data['Default'] != 0, 'Default'] = 1\n",
    "raw_data['Default'] = raw_data['Default'].astype(int)"
   ]
  },
  {
   "cell_type": "code",
   "execution_count": 8,
   "metadata": {},
   "outputs": [
    {
     "name": "stdout",
     "output_type": "stream",
     "text": [
      "<class 'pandas.core.frame.DataFrame'>\n",
      "Index: 391209 entries, 0 to 391208\n",
      "Data columns (total 26 columns):\n",
      "LoanID            391209 non-null int64\n",
      "Channel           391209 non-null object\n",
      "SellerName        391209 non-null object\n",
      "OrInterestRate    391208 non-null float64\n",
      "OrUnpaidPrinc     391209 non-null int64\n",
      "OrLoanTerm        391209 non-null int64\n",
      "OrDate            391209 non-null object\n",
      "FirstPayment      391209 non-null object\n",
      "OrLTV             391209 non-null int64\n",
      "OrCLTV            391177 non-null float64\n",
      "NumBorrow         391203 non-null float64\n",
      "DTIRat            379728 non-null float64\n",
      "CreditScore       390583 non-null float64\n",
      "FTHomeBuyer       391209 non-null object\n",
      "LoanPurpose       391209 non-null object\n",
      "PropertyType      391209 non-null object\n",
      "NumUnits          391209 non-null int64\n",
      "OccStatus         391209 non-null object\n",
      "PropertyState     391209 non-null object\n",
      "Zip               391209 non-null int64\n",
      "MortInsPerc       84925 non-null float64\n",
      "ProductType       391209 non-null object\n",
      "CoCreditScore     156239 non-null float64\n",
      "MortInsType       84925 non-null float64\n",
      "RelMortInd        391209 non-null object\n",
      "Default           391209 non-null int32\n",
      "dtypes: float64(8), int32(1), int64(6), object(11)\n",
      "memory usage: 79.1+ MB\n"
     ]
    }
   ],
   "source": [
    "raw_data.info()"
   ]
  },
  {
   "cell_type": "code",
   "execution_count": 9,
   "metadata": {},
   "outputs": [
    {
     "data": {
      "text/html": [
       "<div>\n",
       "<style scoped>\n",
       "    .dataframe tbody tr th:only-of-type {\n",
       "        vertical-align: middle;\n",
       "    }\n",
       "\n",
       "    .dataframe tbody tr th {\n",
       "        vertical-align: top;\n",
       "    }\n",
       "\n",
       "    .dataframe thead th {\n",
       "        text-align: right;\n",
       "    }\n",
       "</style>\n",
       "<table border=\"1\" class=\"dataframe\">\n",
       "  <thead>\n",
       "    <tr style=\"text-align: right;\">\n",
       "      <th></th>\n",
       "      <th>LoanID</th>\n",
       "      <th>Channel</th>\n",
       "      <th>SellerName</th>\n",
       "      <th>OrInterestRate</th>\n",
       "      <th>OrUnpaidPrinc</th>\n",
       "      <th>OrLoanTerm</th>\n",
       "      <th>OrDate</th>\n",
       "      <th>FirstPayment</th>\n",
       "      <th>OrLTV</th>\n",
       "      <th>OrCLTV</th>\n",
       "      <th>...</th>\n",
       "      <th>NumUnits</th>\n",
       "      <th>OccStatus</th>\n",
       "      <th>PropertyState</th>\n",
       "      <th>Zip</th>\n",
       "      <th>MortInsPerc</th>\n",
       "      <th>ProductType</th>\n",
       "      <th>CoCreditScore</th>\n",
       "      <th>MortInsType</th>\n",
       "      <th>RelMortInd</th>\n",
       "      <th>Default</th>\n",
       "    </tr>\n",
       "  </thead>\n",
       "  <tbody>\n",
       "    <tr>\n",
       "      <td>0</td>\n",
       "      <td>100002296854</td>\n",
       "      <td>C</td>\n",
       "      <td>BANK OF AMERICA, N.A.</td>\n",
       "      <td>6.625</td>\n",
       "      <td>343000</td>\n",
       "      <td>360</td>\n",
       "      <td>10/2007</td>\n",
       "      <td>12/2007</td>\n",
       "      <td>86</td>\n",
       "      <td>86.0</td>\n",
       "      <td>...</td>\n",
       "      <td>1</td>\n",
       "      <td>P</td>\n",
       "      <td>CO</td>\n",
       "      <td>809</td>\n",
       "      <td>25.0</td>\n",
       "      <td>FRM</td>\n",
       "      <td>756.0</td>\n",
       "      <td>2.0</td>\n",
       "      <td>N</td>\n",
       "      <td>0</td>\n",
       "    </tr>\n",
       "    <tr>\n",
       "      <td>1</td>\n",
       "      <td>100006876815</td>\n",
       "      <td>C</td>\n",
       "      <td>BANK OF AMERICA, N.A.</td>\n",
       "      <td>6.250</td>\n",
       "      <td>400000</td>\n",
       "      <td>360</td>\n",
       "      <td>10/2007</td>\n",
       "      <td>12/2007</td>\n",
       "      <td>62</td>\n",
       "      <td>62.0</td>\n",
       "      <td>...</td>\n",
       "      <td>1</td>\n",
       "      <td>P</td>\n",
       "      <td>CA</td>\n",
       "      <td>920</td>\n",
       "      <td>NaN</td>\n",
       "      <td>FRM</td>\n",
       "      <td>790.0</td>\n",
       "      <td>NaN</td>\n",
       "      <td>N</td>\n",
       "      <td>0</td>\n",
       "    </tr>\n",
       "    <tr>\n",
       "      <td>2</td>\n",
       "      <td>100008184591</td>\n",
       "      <td>B</td>\n",
       "      <td>OTHER</td>\n",
       "      <td>6.625</td>\n",
       "      <td>81000</td>\n",
       "      <td>360</td>\n",
       "      <td>11/2007</td>\n",
       "      <td>01/2008</td>\n",
       "      <td>64</td>\n",
       "      <td>82.0</td>\n",
       "      <td>...</td>\n",
       "      <td>1</td>\n",
       "      <td>P</td>\n",
       "      <td>LA</td>\n",
       "      <td>708</td>\n",
       "      <td>NaN</td>\n",
       "      <td>FRM</td>\n",
       "      <td>NaN</td>\n",
       "      <td>NaN</td>\n",
       "      <td>N</td>\n",
       "      <td>0</td>\n",
       "    </tr>\n",
       "    <tr>\n",
       "      <td>3</td>\n",
       "      <td>100008870761</td>\n",
       "      <td>B</td>\n",
       "      <td>AMTRUST BANK</td>\n",
       "      <td>6.500</td>\n",
       "      <td>119000</td>\n",
       "      <td>360</td>\n",
       "      <td>11/2007</td>\n",
       "      <td>01/2008</td>\n",
       "      <td>71</td>\n",
       "      <td>71.0</td>\n",
       "      <td>...</td>\n",
       "      <td>1</td>\n",
       "      <td>P</td>\n",
       "      <td>IL</td>\n",
       "      <td>600</td>\n",
       "      <td>NaN</td>\n",
       "      <td>FRM</td>\n",
       "      <td>NaN</td>\n",
       "      <td>NaN</td>\n",
       "      <td>N</td>\n",
       "      <td>0</td>\n",
       "    </tr>\n",
       "    <tr>\n",
       "      <td>4</td>\n",
       "      <td>100013284158</td>\n",
       "      <td>B</td>\n",
       "      <td>BANK OF AMERICA, N.A.</td>\n",
       "      <td>6.625</td>\n",
       "      <td>205000</td>\n",
       "      <td>360</td>\n",
       "      <td>10/2007</td>\n",
       "      <td>12/2007</td>\n",
       "      <td>27</td>\n",
       "      <td>27.0</td>\n",
       "      <td>...</td>\n",
       "      <td>1</td>\n",
       "      <td>P</td>\n",
       "      <td>CA</td>\n",
       "      <td>907</td>\n",
       "      <td>NaN</td>\n",
       "      <td>FRM</td>\n",
       "      <td>NaN</td>\n",
       "      <td>NaN</td>\n",
       "      <td>N</td>\n",
       "      <td>0</td>\n",
       "    </tr>\n",
       "  </tbody>\n",
       "</table>\n",
       "<p>5 rows × 26 columns</p>\n",
       "</div>"
      ],
      "text/plain": [
       "         LoanID Channel             SellerName  OrInterestRate  OrUnpaidPrinc  \\\n",
       "0  100002296854       C  BANK OF AMERICA, N.A.           6.625         343000   \n",
       "1  100006876815       C  BANK OF AMERICA, N.A.           6.250         400000   \n",
       "2  100008184591       B                  OTHER           6.625          81000   \n",
       "3  100008870761       B           AMTRUST BANK           6.500         119000   \n",
       "4  100013284158       B  BANK OF AMERICA, N.A.           6.625         205000   \n",
       "\n",
       "   OrLoanTerm   OrDate FirstPayment  OrLTV  OrCLTV  ...  NumUnits  OccStatus  \\\n",
       "0         360  10/2007      12/2007     86    86.0  ...         1          P   \n",
       "1         360  10/2007      12/2007     62    62.0  ...         1          P   \n",
       "2         360  11/2007      01/2008     64    82.0  ...         1          P   \n",
       "3         360  11/2007      01/2008     71    71.0  ...         1          P   \n",
       "4         360  10/2007      12/2007     27    27.0  ...         1          P   \n",
       "\n",
       "   PropertyState  Zip MortInsPerc ProductType  CoCreditScore MortInsType  \\\n",
       "0             CO  809        25.0         FRM          756.0         2.0   \n",
       "1             CA  920         NaN         FRM          790.0         NaN   \n",
       "2             LA  708         NaN         FRM            NaN         NaN   \n",
       "3             IL  600         NaN         FRM            NaN         NaN   \n",
       "4             CA  907         NaN         FRM            NaN         NaN   \n",
       "\n",
       "  RelMortInd  Default  \n",
       "0          N        0  \n",
       "1          N        0  \n",
       "2          N        0  \n",
       "3          N        0  \n",
       "4          N        0  \n",
       "\n",
       "[5 rows x 26 columns]"
      ]
     },
     "execution_count": 9,
     "metadata": {},
     "output_type": "execute_result"
    }
   ],
   "source": [
    "raw_data.head()"
   ]
  },
  {
   "cell_type": "code",
   "execution_count": 10,
   "metadata": {},
   "outputs": [
    {
     "data": {
      "text/html": [
       "<div>\n",
       "<style scoped>\n",
       "    .dataframe tbody tr th:only-of-type {\n",
       "        vertical-align: middle;\n",
       "    }\n",
       "\n",
       "    .dataframe tbody tr th {\n",
       "        vertical-align: top;\n",
       "    }\n",
       "\n",
       "    .dataframe thead th {\n",
       "        text-align: right;\n",
       "    }\n",
       "</style>\n",
       "<table border=\"1\" class=\"dataframe\">\n",
       "  <thead>\n",
       "    <tr style=\"text-align: right;\">\n",
       "      <th></th>\n",
       "      <th>LoanID</th>\n",
       "      <th>OrInterestRate</th>\n",
       "      <th>OrUnpaidPrinc</th>\n",
       "      <th>OrLoanTerm</th>\n",
       "      <th>OrLTV</th>\n",
       "      <th>OrCLTV</th>\n",
       "      <th>NumBorrow</th>\n",
       "      <th>DTIRat</th>\n",
       "      <th>CreditScore</th>\n",
       "      <th>NumUnits</th>\n",
       "      <th>Zip</th>\n",
       "      <th>MortInsPerc</th>\n",
       "      <th>CoCreditScore</th>\n",
       "      <th>MortInsType</th>\n",
       "      <th>Default</th>\n",
       "    </tr>\n",
       "  </thead>\n",
       "  <tbody>\n",
       "    <tr>\n",
       "      <td>count</td>\n",
       "      <td>3.912090e+05</td>\n",
       "      <td>391208.000000</td>\n",
       "      <td>391209.000000</td>\n",
       "      <td>391209.000000</td>\n",
       "      <td>391209.000000</td>\n",
       "      <td>391177.000000</td>\n",
       "      <td>391203.000000</td>\n",
       "      <td>379728.000000</td>\n",
       "      <td>390583.000000</td>\n",
       "      <td>391209.000000</td>\n",
       "      <td>391209.000000</td>\n",
       "      <td>84925.000000</td>\n",
       "      <td>156239.000000</td>\n",
       "      <td>84925.000000</td>\n",
       "      <td>391209.000000</td>\n",
       "    </tr>\n",
       "    <tr>\n",
       "      <td>mean</td>\n",
       "      <td>5.504825e+11</td>\n",
       "      <td>6.481945</td>\n",
       "      <td>197361.852616</td>\n",
       "      <td>338.668111</td>\n",
       "      <td>72.172785</td>\n",
       "      <td>73.779760</td>\n",
       "      <td>1.523782</td>\n",
       "      <td>38.670606</td>\n",
       "      <td>720.122701</td>\n",
       "      <td>1.041967</td>\n",
       "      <td>513.973081</td>\n",
       "      <td>23.050056</td>\n",
       "      <td>728.572187</td>\n",
       "      <td>1.124616</td>\n",
       "      <td>0.090737</td>\n",
       "    </tr>\n",
       "    <tr>\n",
       "      <td>std</td>\n",
       "      <td>2.599792e+11</td>\n",
       "      <td>0.387415</td>\n",
       "      <td>101516.224863</td>\n",
       "      <td>56.802728</td>\n",
       "      <td>16.813497</td>\n",
       "      <td>17.122345</td>\n",
       "      <td>0.515925</td>\n",
       "      <td>12.508101</td>\n",
       "      <td>61.355206</td>\n",
       "      <td>0.257150</td>\n",
       "      <td>296.447887</td>\n",
       "      <td>6.480463</td>\n",
       "      <td>60.306947</td>\n",
       "      <td>0.330285</td>\n",
       "      <td>0.287235</td>\n",
       "    </tr>\n",
       "    <tr>\n",
       "      <td>min</td>\n",
       "      <td>1.000023e+11</td>\n",
       "      <td>3.970000</td>\n",
       "      <td>8000.000000</td>\n",
       "      <td>60.000000</td>\n",
       "      <td>1.000000</td>\n",
       "      <td>1.000000</td>\n",
       "      <td>1.000000</td>\n",
       "      <td>1.000000</td>\n",
       "      <td>392.000000</td>\n",
       "      <td>1.000000</td>\n",
       "      <td>6.000000</td>\n",
       "      <td>6.000000</td>\n",
       "      <td>390.000000</td>\n",
       "      <td>1.000000</td>\n",
       "      <td>0.000000</td>\n",
       "    </tr>\n",
       "    <tr>\n",
       "      <td>25%</td>\n",
       "      <td>3.251176e+11</td>\n",
       "      <td>6.250000</td>\n",
       "      <td>119000.000000</td>\n",
       "      <td>360.000000</td>\n",
       "      <td>64.000000</td>\n",
       "      <td>65.000000</td>\n",
       "      <td>1.000000</td>\n",
       "      <td>30.000000</td>\n",
       "      <td>673.000000</td>\n",
       "      <td>1.000000</td>\n",
       "      <td>280.000000</td>\n",
       "      <td>17.000000</td>\n",
       "      <td>683.000000</td>\n",
       "      <td>1.000000</td>\n",
       "      <td>0.000000</td>\n",
       "    </tr>\n",
       "    <tr>\n",
       "      <td>50%</td>\n",
       "      <td>5.506809e+11</td>\n",
       "      <td>6.500000</td>\n",
       "      <td>180000.000000</td>\n",
       "      <td>360.000000</td>\n",
       "      <td>78.000000</td>\n",
       "      <td>80.000000</td>\n",
       "      <td>2.000000</td>\n",
       "      <td>39.000000</td>\n",
       "      <td>725.000000</td>\n",
       "      <td>1.000000</td>\n",
       "      <td>486.000000</td>\n",
       "      <td>25.000000</td>\n",
       "      <td>739.000000</td>\n",
       "      <td>1.000000</td>\n",
       "      <td>0.000000</td>\n",
       "    </tr>\n",
       "    <tr>\n",
       "      <td>75%</td>\n",
       "      <td>7.755272e+11</td>\n",
       "      <td>6.750000</td>\n",
       "      <td>260000.000000</td>\n",
       "      <td>360.000000</td>\n",
       "      <td>80.000000</td>\n",
       "      <td>87.000000</td>\n",
       "      <td>2.000000</td>\n",
       "      <td>48.000000</td>\n",
       "      <td>774.000000</td>\n",
       "      <td>1.000000</td>\n",
       "      <td>787.000000</td>\n",
       "      <td>25.000000</td>\n",
       "      <td>781.000000</td>\n",
       "      <td>1.000000</td>\n",
       "      <td>0.000000</td>\n",
       "    </tr>\n",
       "    <tr>\n",
       "      <td>max</td>\n",
       "      <td>9.999996e+11</td>\n",
       "      <td>9.375000</td>\n",
       "      <td>802000.000000</td>\n",
       "      <td>360.000000</td>\n",
       "      <td>97.000000</td>\n",
       "      <td>143.000000</td>\n",
       "      <td>10.000000</td>\n",
       "      <td>64.000000</td>\n",
       "      <td>843.000000</td>\n",
       "      <td>4.000000</td>\n",
       "      <td>999.000000</td>\n",
       "      <td>39.000000</td>\n",
       "      <td>844.000000</td>\n",
       "      <td>2.000000</td>\n",
       "      <td>1.000000</td>\n",
       "    </tr>\n",
       "  </tbody>\n",
       "</table>\n",
       "</div>"
      ],
      "text/plain": [
       "             LoanID  OrInterestRate  OrUnpaidPrinc     OrLoanTerm  \\\n",
       "count  3.912090e+05   391208.000000  391209.000000  391209.000000   \n",
       "mean   5.504825e+11        6.481945  197361.852616     338.668111   \n",
       "std    2.599792e+11        0.387415  101516.224863      56.802728   \n",
       "min    1.000023e+11        3.970000    8000.000000      60.000000   \n",
       "25%    3.251176e+11        6.250000  119000.000000     360.000000   \n",
       "50%    5.506809e+11        6.500000  180000.000000     360.000000   \n",
       "75%    7.755272e+11        6.750000  260000.000000     360.000000   \n",
       "max    9.999996e+11        9.375000  802000.000000     360.000000   \n",
       "\n",
       "               OrLTV         OrCLTV      NumBorrow         DTIRat  \\\n",
       "count  391209.000000  391177.000000  391203.000000  379728.000000   \n",
       "mean       72.172785      73.779760       1.523782      38.670606   \n",
       "std        16.813497      17.122345       0.515925      12.508101   \n",
       "min         1.000000       1.000000       1.000000       1.000000   \n",
       "25%        64.000000      65.000000       1.000000      30.000000   \n",
       "50%        78.000000      80.000000       2.000000      39.000000   \n",
       "75%        80.000000      87.000000       2.000000      48.000000   \n",
       "max        97.000000     143.000000      10.000000      64.000000   \n",
       "\n",
       "         CreditScore       NumUnits            Zip   MortInsPerc  \\\n",
       "count  390583.000000  391209.000000  391209.000000  84925.000000   \n",
       "mean      720.122701       1.041967     513.973081     23.050056   \n",
       "std        61.355206       0.257150     296.447887      6.480463   \n",
       "min       392.000000       1.000000       6.000000      6.000000   \n",
       "25%       673.000000       1.000000     280.000000     17.000000   \n",
       "50%       725.000000       1.000000     486.000000     25.000000   \n",
       "75%       774.000000       1.000000     787.000000     25.000000   \n",
       "max       843.000000       4.000000     999.000000     39.000000   \n",
       "\n",
       "       CoCreditScore   MortInsType        Default  \n",
       "count  156239.000000  84925.000000  391209.000000  \n",
       "mean      728.572187      1.124616       0.090737  \n",
       "std        60.306947      0.330285       0.287235  \n",
       "min       390.000000      1.000000       0.000000  \n",
       "25%       683.000000      1.000000       0.000000  \n",
       "50%       739.000000      1.000000       0.000000  \n",
       "75%       781.000000      1.000000       0.000000  \n",
       "max       844.000000      2.000000       1.000000  "
      ]
     },
     "execution_count": 10,
     "metadata": {},
     "output_type": "execute_result"
    }
   ],
   "source": [
    "raw_data.describe()"
   ]
  },
  {
   "cell_type": "code",
   "execution_count": 11,
   "metadata": {},
   "outputs": [
    {
     "data": {
      "text/plain": [
       "LoanID                 0\n",
       "Channel                0\n",
       "SellerName             0\n",
       "OrInterestRate         1\n",
       "OrUnpaidPrinc          0\n",
       "OrLoanTerm             0\n",
       "OrDate                 0\n",
       "FirstPayment           0\n",
       "OrLTV                  0\n",
       "OrCLTV                32\n",
       "NumBorrow              6\n",
       "DTIRat             11481\n",
       "CreditScore          626\n",
       "FTHomeBuyer            0\n",
       "LoanPurpose            0\n",
       "PropertyType           0\n",
       "NumUnits               0\n",
       "OccStatus              0\n",
       "PropertyState          0\n",
       "Zip                    0\n",
       "MortInsPerc       306284\n",
       "ProductType            0\n",
       "CoCreditScore     234970\n",
       "MortInsType       306284\n",
       "RelMortInd             0\n",
       "Default                0\n",
       "dtype: int64"
      ]
     },
     "execution_count": 11,
     "metadata": {},
     "output_type": "execute_result"
    }
   ],
   "source": [
    "# Check for missing values\n",
    "raw_data.isnull().sum()"
   ]
  },
  {
   "cell_type": "code",
   "execution_count": 12,
   "metadata": {},
   "outputs": [],
   "source": [
    "#'MortInsPerc' and  'CoCreditScore' are missing in nearly 85% of the records and around 70% records do not have 'MortInsType'.\n",
    "#Imputing is not an option, these variables should be dropped.\n",
    "# CreditScore,DTIRat, OrCLTV, OrInterestRate are missing for some samples. dropping these samples should not affect predictions.\n",
    "# There is a huge class imbalance in the target variable. This has to be addressed during data samping ."
   ]
  },
  {
   "cell_type": "code",
   "execution_count": 13,
   "metadata": {},
   "outputs": [
    {
     "data": {
      "text/plain": [
       "<matplotlib.axes._subplots.AxesSubplot at 0x19b8061b088>"
      ]
     },
     "execution_count": 13,
     "metadata": {},
     "output_type": "execute_result"
    },
    {
     "data": {
      "image/png": "[encoded data removed]",
      "text/plain": [
       "<Figure size 432x288 with 1 Axes>"
      ]
     },
     "metadata": {
      "needs_background": "light"
     },
     "output_type": "display_data"
    }
   ],
   "source": [
    "sns.countplot(raw_data['Default'])"
   ]
  },
  {
   "cell_type": "markdown",
   "metadata": {},
   "source": [
    "## Basic Exploratory Analysis to look for patterns"
   ]
  },
  {
   "cell_type": "code",
   "execution_count": 14,
   "metadata": {},
   "outputs": [],
   "source": [
    "# On average, defaulters have a higher debt-to-income ratio, lower credit scores, and borrowed at higher interest rates."
   ]
  },
  {
   "cell_type": "code",
   "execution_count": 15,
   "metadata": {},
   "outputs": [
    {
     "data": {
      "image/png": "[encoded data removed]",
      "text/plain": [
       "<Figure size 432x504 with 4 Axes>"
      ]
     },
     "metadata": {
      "needs_background": "light"
     },
     "output_type": "display_data"
    }
   ],
   "source": [
    "columns = ['OrCLTV','DTIRat','CreditScore','OrInterestRate']\n",
    "\n",
    "fig, axes = plt.subplots(nrows=2, ncols=2, figsize=(6,7))\n",
    "plt.tight_layout(w_pad=2.0, h_pad=3.0)\n",
    "\n",
    "for i, column in zip(range(1,5), columns):\n",
    "    plt.subplot(2,2,i)\n",
    "    sns.boxplot(x=\"Default\", y=column, data=raw_data, linewidth=0.5)\n",
    "    plt.xlabel('Default')"
   ]
  },
  {
   "cell_type": "code",
   "execution_count": 16,
   "metadata": {},
   "outputs": [],
   "source": [
    "#Borrowers from Arizona (zip 852 and 853) are more likely to default than borrowers from Texas"
   ]
  },
  {
   "cell_type": "code",
   "execution_count": 17,
   "metadata": {},
   "outputs": [
    {
     "data": {
      "text/plain": [
       "Text(0.5, 1.0, 'Top 10 defaulters by ZIP code')"
      ]
     },
     "execution_count": 17,
     "metadata": {},
     "output_type": "execute_result"
    },
    {
     "data": {
      "image/png": "[encoded data removed]",
      "text/plain": [
       "<Figure size 432x288 with 1 Axes>"
      ]
     },
     "metadata": {
      "needs_background": "light"
     },
     "output_type": "display_data"
    }
   ],
   "source": [
    "data = raw_data.loc[raw_data['Zip'].isin(raw_data['Zip'].value_counts().index.tolist()[:10])]\n",
    "\n",
    "xtab = pd.pivot_table(data, index='Zip', columns='Default', aggfunc='size')\n",
    "xtab = xtab.div(xtab.sum(axis=1), axis=0)\n",
    "xtab.plot.barh(stacked=True, figsize=(6,4))\n",
    "plt.legend(loc='center left', bbox_to_anchor=(1.0, 0.5))\n",
    "plt.xlabel('Proportion of Borrowers by default status')\n",
    "plt.ylabel('Distribution of borrowers by ZIP Code')\n",
    "plt.title('Top 10 defaulters by ZIP code')"
   ]
  },
  {
   "cell_type": "markdown",
   "metadata": {},
   "source": [
    "## Data Cleaning and Transformation"
   ]
  },
  {
   "cell_type": "code",
   "execution_count": 18,
   "metadata": {},
   "outputs": [],
   "source": [
    "#split date variables into their respective months and year components ( just in case we decide to dig deeper)"
   ]
  },
  {
   "cell_type": "code",
   "execution_count": 19,
   "metadata": {},
   "outputs": [],
   "source": [
    "df = raw_data.copy()\n",
    "df['OrDateMonth'] = df['OrDate'].apply(lambda x: x.split('/')[0].strip()).astype(int)\n",
    "df['OrDateYear'] = df['OrDate'].apply(lambda x: x.split('/')[1].strip()).astype(int)\n",
    "\n",
    "df['FirstMonth'] = df['FirstPayment'].apply(lambda x: x.split('/')[0].strip()).astype(int)\n",
    "df['FirstYear'] = df['FirstPayment'].apply(lambda x: x.split('/')[1].strip()).astype(int)\n",
    "\n",
    "df.drop(['OrDate','FirstPayment'], axis=1, inplace=True)"
   ]
  },
  {
   "cell_type": "code",
   "execution_count": 20,
   "metadata": {},
   "outputs": [],
   "source": [
    "# Drop variables with missing values/ that are not necessary\n",
    "df.drop(['MortInsPerc','MortInsType','CoCreditScore','ProductType','LoanID'], axis=1, inplace=True)"
   ]
  },
  {
   "cell_type": "code",
   "execution_count": 21,
   "metadata": {},
   "outputs": [],
   "source": [
    "#Create dummies for categorical variables\n",
    "def getdummies(df):\n",
    "    columns = df.columns[df.isnull().any()]\n",
    "    nan_cols = df[columns]\n",
    "\n",
    "    df.drop(nan_cols.columns, axis=1, inplace=True)\n",
    "\n",
    "    cat = df.select_dtypes(include=['object'])\n",
    "    num = df.drop(cat.columns, axis=1)\n",
    "\n",
    "    data = pd.DataFrame()\n",
    "    for i in cat.columns:\n",
    "        tmp = pd.get_dummies(cat[i], drop_first=True)\n",
    "        data = pd.concat([data, tmp], axis=1)\n",
    "\n",
    "    df = pd.concat([num,data,nan_cols], axis=1).reset_index(drop=True)\n",
    "    return df"
   ]
  },
  {
   "cell_type": "code",
   "execution_count": 22,
   "metadata": {},
   "outputs": [],
   "source": [
    "#Drop samples with null values in any row \n",
    "df = df.dropna(how='any',axis=0)"
   ]
  },
  {
   "cell_type": "code",
   "execution_count": 23,
   "metadata": {},
   "outputs": [],
   "source": [
    "df = getdummies(df)\n",
    "df.to_csv('E:/DS Data/cleaned_Q42007.csv')"
   ]
  },
  {
   "cell_type": "markdown",
   "metadata": {},
   "source": [
    "## Sampling\n",
    "Over sampling the minority class and under-sampling the majority class using\n",
    "SMOTE and Edited Nearest Neighbours' to balance class imbalance"
   ]
  },
  {
   "cell_type": "code",
   "execution_count": 24,
   "metadata": {},
   "outputs": [],
   "source": [
    "from imblearn.combine import SMOTEENN\n",
    "sm = SMOTEENN()\n",
    "y = df['Default'].values\n",
    "X = df.drop(['Default'], axis=1).values\n",
    "X_resampled, y_resampled = sm.fit_sample(X, y)"
   ]
  },
  {
   "cell_type": "markdown",
   "metadata": {},
   "source": [
    "## Splitting the data into training and test datasets"
   ]
  },
  {
   "cell_type": "code",
   "execution_count": 25,
   "metadata": {},
   "outputs": [],
   "source": [
    "X_train, X_test, y_train, y_test = train_test_split(X_resampled, y_resampled, test_size = 0.25, random_state=0)"
   ]
  },
  {
   "cell_type": "markdown",
   "metadata": {},
   "source": [
    "## Train the Random Forest Model "
   ]
  },
  {
   "cell_type": "code",
   "execution_count": 26,
   "metadata": {},
   "outputs": [],
   "source": [
    "#Train Random Forest Classifier and predict\n",
    "model = RandomForestClassifier(n_estimators=200)\n",
    "model = model.fit(X_train, y_train)\n",
    "predict = model.predict(X_test)"
   ]
  },
  {
   "cell_type": "markdown",
   "metadata": {},
   "source": [
    "# Evaluation of the model\n",
    "The model acheived an accurcy score of 95%;\n",
    "\n",
    "Recall scores of 98% and 94% ( meaning less losses to the FNMA)\n",
    "\n",
    "Precision score of 92% and 98% (less hassles to borrowers due to misclassification)"
   ]
  },
  {
   "cell_type": "code",
   "execution_count": 34,
   "metadata": {},
   "outputs": [
    {
     "name": "stdout",
     "output_type": "stream",
     "text": [
      "              precision    recall  f1-score   support\n",
      "\n",
      "           0       0.92      0.98      0.95     55165\n",
      "           1       0.98      0.94      0.96     76153\n",
      "\n",
      "    accuracy                           0.95    131318\n",
      "   macro avg       0.95      0.96      0.95    131318\n",
      "weighted avg       0.96      0.95      0.95    131318\n",
      "\n"
     ]
    }
   ],
   "source": [
    "# Print classification report\n",
    "print(classification_report(y_test, predict))"
   ]
  },
  {
   "cell_type": "code",
   "execution_count": 33,
   "metadata": {},
   "outputs": [
    {
     "data": {
      "text/plain": [
       "(1.7, 0.3)"
      ]
     },
     "execution_count": 33,
     "metadata": {},
     "output_type": "execute_result"
    },
    {
     "data": {
      "image/png": "[encoded data removed]",
      "text/plain": [
       "<Figure size 432x288 with 2 Axes>"
      ]
     },
     "metadata": {
      "needs_background": "light"
     },
     "output_type": "display_data"
    }
   ],
   "source": [
    "# Plot the results using confusion matrix\n",
    "cm = confusion_matrix(y_test, predict).T\n",
    "cm = cm.astype('float')/cm.sum(axis=0)*100\n",
    "\n",
    "fig, ax = plt.subplots()\n",
    "sns.heatmap(cm, annot=True, cmap='Blues');\n",
    "ax.set_xlabel('True Label')\n",
    "ax.set_ylabel('Predicted Label')\n",
    "ax.xaxis.set_label_position('top')\n",
    "bottom, top = ax.get_ylim()\n",
    "ax.set_ylim(bottom + 0.2, top - 0.2)"
   ]
  },
  {
   "cell_type": "markdown",
   "metadata": {},
   "source": [
    "AUC-ROC curve is one of the most commonly used metrics to evaluate the performance of machine learning algorithms particularly in the cases where we have imbalanced datasets.\n",
    "\n",
    "The dotted line represents a completely uninformative test, which corresponds to an AUC of 0.5. A curve pulled close to the upper left corner indicates (an AUC close to 1 and thus) a better performing test."
   ]
  },
  {
   "cell_type": "code",
   "execution_count": 29,
   "metadata": {},
   "outputs": [
    {
     "data": {
      "image/png": "[encoded data removed]",
      "text/plain": [
       "<Figure size 432x288 with 1 Axes>"
      ]
     },
     "metadata": {
      "needs_background": "light"
     },
     "output_type": "display_data"
    }
   ],
   "source": [
    "fpr, tpr, thresholds = roc_curve(y_test, model.predict_proba(X_test)[:,1])\n",
    "roc_auc = roc_auc_score(y_test, predict)\n",
    "\n",
    "plt.plot(fpr, tpr, lw=1, label='AUC = %0.2f'%(roc_auc))\n",
    "plt.plot([0, 1], [0, 1], '--k', lw=1)\n",
    "plt.xlabel('False Positive Rate')\n",
    "plt.ylabel('True Positive Rate')\n",
    "plt.title('Random Forest ROC')\n",
    "plt.legend(loc=\"lower right\", frameon = True).get_frame().set_edgecolor('black')"
   ]
  },
  {
   "cell_type": "code",
   "execution_count": 30,
   "metadata": {},
   "outputs": [
    {
     "data": {
      "text/plain": [
       "(array([ 0,  1,  2,  3,  4,  5,  6,  7,  8,  9, 10, 11, 12, 13, 14, 15, 16,\n",
       "        17, 18]), <a list of 19 Text xticklabel objects>)"
      ]
     },
     "execution_count": 30,
     "metadata": {},
     "output_type": "execute_result"
    },
    {
     "data": {
      "image/png": "[encoded data removed]",
      "text/plain": [
       "<Figure size 432x288 with 1 Axes>"
      ]
     },
     "metadata": {
      "needs_background": "light"
     },
     "output_type": "display_data"
    }
   ],
   "source": [
    "feature_labels = df.drop('Default', axis=1).columns\n",
    "importances = model.feature_importances_\n",
    "indices = np.argsort(importances)[::-1]\n",
    "ncomp = 20\n",
    "sns.barplot(x=feature_labels[indices[:ncomp]], y=importances[indices[:ncomp]], color =sns.xkcd_rgb[\"blue\"])\n",
    "plt.title('Top 10 Feature by thier Importance')\n",
    "plt.ylabel('Relative Feature Importance')\n",
    "plt.xticks(rotation=90)"
   ]
  },
  {
   "cell_type": "markdown",
   "metadata": {},
   "source": [
    "Credit score, Original Combined Loan to value and number of borrowers are among the important features that influence prediction"
   ]
  },
  {
   "cell_type": "markdown",
   "metadata": {},
   "source": [
    "## Future work"
   ]
  },
  {
   "cell_type": "markdown",
   "metadata": {},
   "source": [
    "Analyse Loss severity by computing loss statistics:\n",
    "- Delinquent Interest Expense (Default UPB * ((Current Interest Rate/100 – 0.0035)/12) * months from LPI to disposition)\n",
    "- Total Costs (Foreclosure Costs + Property Preservation and Repair Costs + Asset Recovery Costs + Miscellaneous Holding Expenses and Credits + Associated Taxes for Holding Property)\n",
    "- Total Proceeds (Defaulted UPB + Accrued Interest + Total Costs – Total Proceeds)\n",
    "- Severity (Total Net Loss / Defaulted UPB)"
   ]
  },
  {
   "cell_type": "markdown",
   "metadata": {},
   "source": [
    "# Conclusion\n",
    "\n",
    "The model acheived an accuracy score of 95% on the test data set which is great. Performance of this model on a real data stream with no samping needs to be seen."
   ]
  },
  {
   "cell_type": "code",
   "execution_count": null,
   "metadata": {},
   "outputs": [],
   "source": []
  }
 ],
 "metadata": {
  "kernelspec": {
   "display_name": "Python 3",
   "language": "python",
   "name": "python3"
  },
  "language_info": {
   "codemirror_mode": {
    "name": "ipython",
    "version": 3
   },
   "file_extension": ".py",
   "mimetype": "text/x-python",
   "name": "python",
   "nbconvert_exporter": "python",
   "pygments_lexer": "ipython3",
   "version": "3.7.4"
  }
 },
 "nbformat": 4,
 "nbformat_minor": 2
}
